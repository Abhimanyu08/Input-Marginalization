{
 "cells": [
  {
   "cell_type": "code",
   "execution_count": 14,
   "id": "7d43cd8e-bd61-4cf8-b759-8ae9b7f30b41",
   "metadata": {},
   "outputs": [],
   "source": [
    "from transformers import BertForMaskedLM, BertConfig,BertTokenizer, BertForPreTraining, BertForSequenceClassification, AutoModel\n",
    "import torch\n",
    "from datasets import load_dataset, load_metric\n",
    "from torch.utils.data import DataLoader, SequentialSampler\n",
    "from tqdm import tqdm\n",
    "from typing import List,Union,Dict\n",
    "import torch.nn.functional as F\n",
    "import numpy as np\n",
    "import transformers\n",
    "from torch import Tensor\n",
    "import matplotlib.pyplot as pl\n",
    "import seaborn as sns"
   ]
  },
  {
   "cell_type": "code",
   "execution_count": 15,
   "id": "d7846b2e-81ce-4789-af98-bd12b121d6ab",
   "metadata": {},
   "outputs": [],
   "source": [
    "sns.set_style('darkgrid')"
   ]
  },
  {
   "cell_type": "code",
   "execution_count": 3,
   "id": "c677bd9c-1fb4-490a-8713-dff0b72b0b36",
   "metadata": {},
   "outputs": [],
   "source": [
    "from input_marginalization import calculate_input_marginalisation"
   ]
  },
  {
   "cell_type": "code",
   "execution_count": 4,
   "id": "7558ebcc-7a35-4dcd-a8d9-1b1a9b99ca0b",
   "metadata": {},
   "outputs": [
    {
     "name": "stderr",
     "output_type": "stream",
     "text": [
      "Reusing dataset glue (C:\\Users\\iamab\\.cache\\huggingface\\datasets\\glue\\sst2\\1.0.0\\dacbe3125aa31d7f70367a07a8a9e72a5a0bfeb5fc42e75c9db75b96da6053ad)\n"
     ]
    }
   ],
   "source": [
    "dataset = load_dataset('glue', 'sst2', split = 'validation')"
   ]
  },
  {
   "cell_type": "code",
   "execution_count": 5,
   "id": "46c0d60d-07ad-4e42-975e-70705029ffff",
   "metadata": {},
   "outputs": [
    {
     "data": {
      "text/plain": [
       "ClassLabel(num_classes=2, names=['negative', 'positive'], names_file=None, id=None)"
      ]
     },
     "execution_count": 5,
     "metadata": {},
     "output_type": "execute_result"
    }
   ],
   "source": [
    "dataset.features['label']"
   ]
  },
  {
   "cell_type": "code",
   "execution_count": 6,
   "id": "48bce173-4d92-4836-be79-41566240955b",
   "metadata": {},
   "outputs": [],
   "source": [
    "def give_sent_label_pair(index):\n",
    "    print(dataset[index]['sentence'])\n",
    "    print(dataset[index]['label'])\n",
    "\n",
    "    return dataset[index]['sentence'],dataset[index]['label']"
   ]
  },
  {
   "cell_type": "code",
   "execution_count": 7,
   "id": "1a1b7b1a-726a-48e6-93c8-19c4a15e1915",
   "metadata": {},
   "outputs": [
    {
     "name": "stdout",
     "output_type": "stream",
     "text": [
      "unflinchingly bleak and desperate \n",
      "0\n"
     ]
    }
   ],
   "source": [
    "sent,label = give_sent_label_pair(1)"
   ]
  },
  {
   "cell_type": "code",
   "execution_count": 8,
   "id": "101b3a86-0d39-4fda-a358-1f6ee2850809",
   "metadata": {},
   "outputs": [],
   "source": [
    "target_model = BertForSequenceClassification.from_pretrained('textattack/bert-base-uncased-SST-2')"
   ]
  },
  {
   "cell_type": "code",
   "execution_count": 9,
   "id": "88f5cc34-5edb-4161-b08f-f028a671314d",
   "metadata": {},
   "outputs": [
    {
     "name": "stderr",
     "output_type": "stream",
     "text": [
      "Some weights of the model checkpoint at bert-base-uncased were not used when initializing BertForMaskedLM: ['cls.seq_relationship.bias', 'cls.seq_relationship.weight']\n",
      "- This IS expected if you are initializing BertForMaskedLM from the checkpoint of a model trained on another task or with another architecture (e.g. initializing a BertForSequenceClassification model from a BertForPreTraining model).\n",
      "- This IS NOT expected if you are initializing BertForMaskedLM from the checkpoint of a model that you expect to be exactly identical (initializing a BertForSequenceClassification model from a BertForSequenceClassification model).\n"
     ]
    }
   ],
   "source": [
    "language_model = BertForMaskedLM.from_pretrained('bert-base-uncased')"
   ]
  },
  {
   "cell_type": "code",
   "execution_count": 10,
   "id": "6fcedf67-8cc8-45de-9a4f-f00621db74d9",
   "metadata": {},
   "outputs": [],
   "source": [
    "tokenizer = BertTokenizer.from_pretrained('bert-base-uncased')"
   ]
  },
  {
   "cell_type": "code",
   "execution_count": 11,
   "id": "73a200fb-6b5f-42ae-b187-40865dec8f92",
   "metadata": {},
   "outputs": [
    {
     "name": "stderr",
     "output_type": "stream",
     "text": [
      "calculating target class probs for index 0: 100%|████████████████████████████████████| 654/654 [00:17<00:00, 36.88it/s]\n",
      "calculating target class probs for index 2: 100%|████████████████████████████████████████| 1/1 [00:00<00:00, 43.48it/s]\n",
      "calculating target class probs for index 3: 100%|████████████████████████████████████████| 1/1 [00:00<00:00, 35.72it/s]\n",
      "calculating target class probs for index 4: 100%|████████████████████████████████████████| 1/1 [00:00<00:00, 43.46it/s]\n",
      "calculating target class probs for index 5: 100%|████████████████████████████████████████| 4/4 [00:00<00:00, 40.40it/s]\n",
      "calculating target class probs for index 6: 100%|██████████████████████████████████████| 80/80 [00:02<00:00, 38.11it/s]\n",
      "calculating target class probs for index 7: 100%|████████████████████████████████████████| 3/3 [00:00<00:00, 38.46it/s]\n",
      "calculating target class probs for index 8: 100%|████████████████████████████████████████| 1/1 [00:00<00:00, 37.04it/s]\n",
      "calculating target class probs for index 9: 100%|████████████████████████████████████| 342/342 [00:08<00:00, 38.02it/s]\n"
     ]
    }
   ],
   "source": [
    "attribution_scores, marinalised_probs = calculate_input_marginalisation(target_model, language_model, sent, tokenizer, label)"
   ]
  },
  {
   "cell_type": "code",
   "execution_count": 12,
   "id": "8ef25476-fa86-480b-baba-e2361c9da0b7",
   "metadata": {},
   "outputs": [
    {
     "data": {
      "text/plain": [
       "{'[CLS]': -0.1743878299905326,\n",
       " 'unflinchingly': 4.321102052523051,\n",
       " 'bleak': 7.044154536846676,\n",
       " 'and': 1.3517100341011483,\n",
       " 'desperate': 0.2528024051361477,\n",
       " '[SEP]': 8.374740626325515}"
      ]
     },
     "execution_count": 12,
     "metadata": {},
     "output_type": "execute_result"
    }
   ],
   "source": [
    "attribution_scores"
   ]
  },
  {
   "cell_type": "code",
   "execution_count": 21,
   "id": "ece8e1c1-08cc-4165-ae1b-062d29851bed",
   "metadata": {},
   "outputs": [
    {
     "data": {
      "image/png": "[encoded data removed]",
      "text/plain": [
       "<Figure size 720x360 with 1 Axes>"
      ]
     },
     "metadata": {},
     "output_type": "display_data"
    }
   ],
   "source": [
    "# import numpy as np\n",
    "import matplotlib.pyplot as plt\n",
    " \n",
    "  \n",
    "# creating the dataset\n",
    "words = list(attribution_scores.keys())\n",
    "scores = list(attribution_scores.values())\n",
    "  \n",
    "fig = plt.figure(figsize = (10, 5))\n",
    " \n",
    "# creating the bar plot\n",
    "plt.bar(words,scores, color ='green',\n",
    "        width = 0.4, align = 'edge')\n",
    " \n",
    "plt.xlabel(\"Words\")\n",
    "plt.ylabel(\"Attribution Scores\")\n",
    "plt.title(\"Scores for each word\")\n",
    "plt.show()"
   ]
  },
  {
   "cell_type": "code",
   "execution_count": null,
   "id": "61018d30-a810-42b0-a749-05af13caee09",
   "metadata": {},
   "outputs": [],
   "source": []
  },
  {
   "cell_type": "code",
   "execution_count": null,
   "id": "d62cc673-d398-40f4-8d51-f1653038844c",
   "metadata": {},
   "outputs": [],
   "source": []
  },
  {
   "cell_type": "code",
   "execution_count": null,
   "id": "6f51da95-3b3f-4445-8ae2-c4ee075f7109",
   "metadata": {},
   "outputs": [],
   "source": []
  },
  {
   "cell_type": "code",
   "execution_count": null,
   "id": "308173fa-2228-4694-a373-b1484ad3c8f3",
   "metadata": {},
   "outputs": [],
   "source": []
  },
  {
   "cell_type": "code",
   "execution_count": 22,
   "id": "7f426a1b-91df-4824-b4df-a2f8f106b9cb",
   "metadata": {},
   "outputs": [],
   "source": [
    "ls = [('a',1), ('b',2), ('c',3)]"
   ]
  },
  {
   "cell_type": "code",
   "execution_count": 24,
   "id": "ce0bce1b-873b-45aa-a818-bb846f47825f",
   "metadata": {},
   "outputs": [
    {
     "data": {
      "text/plain": [
       "[('a', 'b', 'c'), (1, 2, 3)]"
      ]
     },
     "execution_count": 24,
     "metadata": {},
     "output_type": "execute_result"
    }
   ],
   "source": [
    "list(zip(*ls))"
   ]
  }
 ],
 "metadata": {
  "kernelspec": {
   "display_name": "Python 3",
   "language": "python",
   "name": "python3"
  },
  "language_info": {
   "codemirror_mode": {
    "name": "ipython",
    "version": 3
   },
   "file_extension": ".py",
   "mimetype": "text/x-python",
   "name": "python",
   "nbconvert_exporter": "python",
   "pygments_lexer": "ipython3",
   "version": "3.9.6"
  }
 },
 "nbformat": 4,
 "nbformat_minor": 5
}
