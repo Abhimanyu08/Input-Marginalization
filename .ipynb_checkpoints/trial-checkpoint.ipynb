{
 "cells": [
  {
   "cell_type": "code",
   "execution_count": 1,
   "id": "7d43cd8e-bd61-4cf8-b759-8ae9b7f30b41",
   "metadata": {},
   "outputs": [],
   "source": [
    "from transformers import BertForMaskedLM, BertConfig,BertTokenizer, BertForPreTraining, BertForSequenceClassification, AutoModel\n",
    "import torch\n",
    "from datasets import load_dataset, load_metric\n",
    "from torch.utils.data import DataLoader, SequentialSampler\n",
    "from tqdm import tqdm\n",
    "from typing import List,Union,Dict\n",
    "import torch.nn.functional as F\n",
    "import numpy as np\n",
    "import transformers\n",
    "from torch import Tensor"
   ]
  },
  {
   "cell_type": "code",
   "execution_count": 2,
   "id": "c677bd9c-1fb4-490a-8713-dff0b72b0b36",
   "metadata": {},
   "outputs": [],
   "source": [
    "from input_marg_1 import calculate_input_marginalisation"
   ]
  },
  {
   "cell_type": "code",
   "execution_count": 3,
   "id": "7558ebcc-7a35-4dcd-a8d9-1b1a9b99ca0b",
   "metadata": {},
   "outputs": [
    {
     "name": "stderr",
     "output_type": "stream",
     "text": [
      "Reusing dataset glue (C:\\Users\\iamab\\.cache\\huggingface\\datasets\\glue\\sst2\\1.0.0\\dacbe3125aa31d7f70367a07a8a9e72a5a0bfeb5fc42e75c9db75b96da6053ad)\n"
     ]
    }
   ],
   "source": [
    "dataset = load_dataset('glue', 'sst2', split = 'validation')"
   ]
  },
  {
   "cell_type": "code",
   "execution_count": 4,
   "id": "46c0d60d-07ad-4e42-975e-70705029ffff",
   "metadata": {},
   "outputs": [
    {
     "data": {
      "text/plain": [
       "ClassLabel(num_classes=2, names=['negative', 'positive'], names_file=None, id=None)"
      ]
     },
     "execution_count": 4,
     "metadata": {},
     "output_type": "execute_result"
    }
   ],
   "source": [
    "dataset.features['label']"
   ]
  },
  {
   "cell_type": "code",
   "execution_count": 5,
   "id": "48bce173-4d92-4836-be79-41566240955b",
   "metadata": {},
   "outputs": [],
   "source": [
    "def give_sent_label_pair(index):\n",
    "    print(dataset[index]['sentence'])\n",
    "    print(dataset[index]['label'])\n",
    "\n",
    "    return dataset[index]['sentence'],dataset[index]['label']"
   ]
  },
  {
   "cell_type": "code",
   "execution_count": 6,
   "id": "1a1b7b1a-726a-48e6-93c8-19c4a15e1915",
   "metadata": {},
   "outputs": [
    {
     "name": "stdout",
     "output_type": "stream",
     "text": [
      "unflinchingly bleak and desperate \n",
      "0\n"
     ]
    }
   ],
   "source": [
    "sent,label = give_sent_label_pair(1)"
   ]
  },
  {
   "cell_type": "code",
   "execution_count": 7,
   "id": "101b3a86-0d39-4fda-a358-1f6ee2850809",
   "metadata": {},
   "outputs": [],
   "source": [
    "target_model = BertForSequenceClassification.from_pretrained('textattack/bert-base-uncased-SST-2')"
   ]
  },
  {
   "cell_type": "code",
   "execution_count": 8,
   "id": "88f5cc34-5edb-4161-b08f-f028a671314d",
   "metadata": {},
   "outputs": [
    {
     "name": "stderr",
     "output_type": "stream",
     "text": [
      "Some weights of the model checkpoint at bert-base-uncased were not used when initializing BertForMaskedLM: ['cls.seq_relationship.bias', 'cls.seq_relationship.weight']\n",
      "- This IS expected if you are initializing BertForMaskedLM from the checkpoint of a model trained on another task or with another architecture (e.g. initializing a BertForSequenceClassification model from a BertForPreTraining model).\n",
      "- This IS NOT expected if you are initializing BertForMaskedLM from the checkpoint of a model that you expect to be exactly identical (initializing a BertForSequenceClassification model from a BertForSequenceClassification model).\n"
     ]
    }
   ],
   "source": [
    "language_model = BertForMaskedLM.from_pretrained('bert-base-uncased')"
   ]
  },
  {
   "cell_type": "code",
   "execution_count": 9,
   "id": "6fcedf67-8cc8-45de-9a4f-f00621db74d9",
   "metadata": {},
   "outputs": [],
   "source": [
    "tokenizer = BertTokenizer.from_pretrained('bert-base-uncased')"
   ]
  },
  {
   "cell_type": "code",
   "execution_count": 10,
   "id": "73a200fb-6b5f-42ae-b187-40865dec8f92",
   "metadata": {},
   "outputs": [
    {
     "name": "stderr",
     "output_type": "stream",
     "text": [
      "calculating target class probs for index 0: 100%|████████████████████████████████████████████████████████████████| 654/654 [00:17<00:00, 37.56it/s]\n",
      "calculating target class probs for index 2: 100%|████████████████████████████████████████████████████████████████████| 1/1 [00:00<00:00, 40.00it/s]\n",
      "calculating target class probs for index 3: 100%|████████████████████████████████████████████████████████████████████| 1/1 [00:00<00:00, 37.04it/s]\n",
      "calculating target class probs for index 4: 100%|████████████████████████████████████████████████████████████████████| 1/1 [00:00<00:00, 45.46it/s]\n",
      "calculating target class probs for index 5: 100%|████████████████████████████████████████████████████████████████████| 4/4 [00:00<00:00, 38.83it/s]\n",
      "calculating target class probs for index 6: 100%|██████████████████████████████████████████████████████████████████| 80/80 [00:02<00:00, 38.52it/s]\n",
      "calculating target class probs for index 7: 100%|████████████████████████████████████████████████████████████████████| 3/3 [00:00<00:00, 40.00it/s]\n",
      "calculating target class probs for index 8: 100%|████████████████████████████████████████████████████████████████████| 1/1 [00:00<00:00, 41.67it/s]\n",
      "calculating target class probs for index 9: 100%|████████████████████████████████████████████████████████████████| 342/342 [00:08<00:00, 38.74it/s]\n"
     ]
    }
   ],
   "source": [
    "ats,md = calculate_input_marginalisation(target_model, language_model, sent, tokenizer, label)"
   ]
  },
  {
   "cell_type": "code",
   "execution_count": 11,
   "id": "8ef25476-fa86-480b-baba-e2361c9da0b7",
   "metadata": {},
   "outputs": [
    {
     "data": {
      "text/plain": [
       "{'[CLS]': -0.1743878299905326,\n",
       " 'unflinchingly': 4.321102052523051,\n",
       " 'bleak': 7.044154536846676,\n",
       " 'and': 1.3517100341011483,\n",
       " 'desperate': 0.2528024051361477,\n",
       " '[SEP]': 8.374740626325515}"
      ]
     },
     "execution_count": 11,
     "metadata": {},
     "output_type": "execute_result"
    }
   ],
   "source": [
    "ats"
   ]
  },
  {
   "cell_type": "code",
   "execution_count": 35,
   "id": "5fc41b63-ebdd-49b2-a31a-67f5d868d371",
   "metadata": {},
   "outputs": [
    {
     "data": {
      "text/plain": [
       "[('[CLS]', 0.9872812628746033),\n",
       " ('un', 1e-08),\n",
       " ('##fl', 0.984134316444397),\n",
       " ('##in', 0.9893656969070435),\n",
       " ('##ching', 0.9960137605667114),\n",
       " ('##ly', 0.9046838879585266),\n",
       " ('bleak', 0.34262144565582275),\n",
       " ('and', 0.9642247557640076),\n",
       " ('desperate', 0.9829728603363037),\n",
       " ('[SEP]', 0.17165744304656982)]"
      ]
     },
     "execution_count": 35,
     "metadata": {},
     "output_type": "execute_result"
    }
   ],
   "source": [
    "list(md.items())"
   ]
  },
  {
   "cell_type": "code",
   "execution_count": 41,
   "id": "90cdf0ba-581d-4ede-8f1d-809cd770e17a",
   "metadata": {},
   "outputs": [],
   "source": [
    "dic = {}\n",
    "items= list(md.items())\n",
    "\n",
    "\n",
    "flag = True\n",
    "ind= list(range(len(items)))\n",
    "\n",
    "for i in ind:\n",
    "    word = items[i][0]\n",
    "    prob = items[i][1]\n",
    "    k = 0\n",
    "    for j in items[i+1:]:\n",
    "        if '##' in j[0]:\n",
    "            word += j[0].strip('#')\n",
    "            prob += j[1]\n",
    "            k+=1\n",
    "            ind.remove(i+k)\n",
    "        else:\n",
    "            break\n",
    "    dic[word] = prob/(k+1)\n",
    "#     i += (k+1)"
   ]
  },
  {
   "cell_type": "code",
   "execution_count": 39,
   "id": "05b0eaea-d0fd-4779-85f2-25f02effa7dd",
   "metadata": {},
   "outputs": [
    {
     "data": {
      "text/plain": [
       "0.7748395343753357"
      ]
     },
     "execution_count": 39,
     "metadata": {},
     "output_type": "execute_result"
    }
   ],
   "source": [
    "(md['un'] + md['##fl'] + md ['##in'] + md['##ching'] + md['##ly'])/(5)"
   ]
  },
  {
   "cell_type": "code",
   "execution_count": 42,
   "id": "5ee7f4c9-2c0b-4842-b2a4-12fa8768390b",
   "metadata": {},
   "outputs": [
    {
     "data": {
      "text/plain": [
       "{'[CLS]': 0.9872812628746033,\n",
       " 'unflinchingly': 0.7748395343753357,\n",
       " 'bleak': 0.34262144565582275,\n",
       " 'and': 0.9642247557640076,\n",
       " 'desperate': 0.9829728603363037,\n",
       " '[SEP]': 0.17165744304656982}"
      ]
     },
     "execution_count": 42,
     "metadata": {},
     "output_type": "execute_result"
    }
   ],
   "source": [
    "dic"
   ]
  },
  {
   "cell_type": "code",
   "execution_count": 10,
   "id": "2ed74c3f-4747-491c-a522-d23e2ed6873d",
   "metadata": {},
   "outputs": [],
   "source": [
    "tokens = tokenizer.convert_ids_to_tokens(tokenizer(sent)['input_ids'])"
   ]
  },
  {
   "cell_type": "code",
   "execution_count": 11,
   "id": "1ade660c-85e8-421f-a95f-07e355385e8e",
   "metadata": {},
   "outputs": [
    {
     "name": "stdout",
     "output_type": "stream",
     "text": [
      "[CLS] 0.4772483666697922\n",
      "pumpkin 0.029969691004827048\n",
      "takes 0.30724200160807813\n",
      "an -0.4556449524076047\n",
      "ad 30.600218085520094\n",
      "##mir -2.3149723971849347\n",
      "##able -0.3817417560742715\n",
      "look -0.9226856943233601\n",
      "at 0.018292548050501622\n",
      "the -0.13783306691372754\n",
      "h -0.12477640857941186\n",
      "##yp 30.600218085520094\n",
      "##oc -0.24116085970290335\n",
      "##ris -0.31669134652846775\n",
      "##y 0.19031770140023285\n",
      "of -0.09110892242724766\n",
      "political -0.009992301079638999\n",
      "correct 0.29630282761373516\n",
      "##ness -0.07191547941736953\n",
      ", 0.7221702795384521\n",
      "but 6.879198969639418\n",
      "it 1.5363433169654614\n",
      "does 0.43830414754857383\n",
      "so 3.1318572413116836\n",
      "with 0.08312772822510661\n",
      "such 0.6798312113387914\n",
      "an 0.8711515549013571\n",
      "uneven 8.389592975286496\n",
      "tone 2.884565146915489\n",
      "that -0.542087147248183\n",
      "you -1.050486450889875\n",
      "never -0.0056901795486687945\n",
      "know 3.209775622044061\n",
      "when -0.1972031858122305\n",
      "humor 1.4144783063796802\n",
      "ends 0.5421301989021878\n",
      "and -0.17224572454760523\n",
      "tragedy -0.7424034604628043\n",
      "begins 0.12855522687144694\n",
      ". -0.24872171140183585\n",
      "[SEP] 2.0234352617890132\n"
     ]
    }
   ],
   "source": [
    "for a,b in zip(tokens, att_scores.values()):\n",
    "    print(a,b)"
   ]
  },
  {
   "cell_type": "code",
   "execution_count": 21,
   "id": "b98a5cec-5bd6-486e-ba51-27ff4c9f1b7d",
   "metadata": {},
   "outputs": [
    {
     "data": {
      "text/plain": [
       "tensor([[1, 2, 3],\n",
       "        [1, 2, 3],\n",
       "        [1, 2, 3]])"
      ]
     },
     "execution_count": 21,
     "metadata": {},
     "output_type": "execute_result"
    }
   ],
   "source": [
    "a.repeat(3,1)"
   ]
  },
  {
   "cell_type": "code",
   "execution_count": 22,
   "id": "cd713a6b-7bac-4f8a-850b-2d4aa8bc5233",
   "metadata": {},
   "outputs": [
    {
     "ename": "IndexError",
     "evalue": "too many indices for tensor of dimension 1",
     "output_type": "error",
     "traceback": [
      "\u001b[1;31m---------------------------------------------------------------------------\u001b[0m",
      "\u001b[1;31mIndexError\u001b[0m                                Traceback (most recent call last)",
      "\u001b[1;32m<ipython-input-22-90504c5304bb>\u001b[0m in \u001b[0;36m<module>\u001b[1;34m\u001b[0m\n\u001b[1;32m----> 1\u001b[1;33m \u001b[0ma\u001b[0m\u001b[1;33m[\u001b[0m\u001b[1;36m0\u001b[0m\u001b[1;33m,\u001b[0m\u001b[1;36m1\u001b[0m\u001b[1;33m]\u001b[0m \u001b[1;33m=\u001b[0m \u001b[1;36m20\u001b[0m\u001b[1;33m\u001b[0m\u001b[1;33m\u001b[0m\u001b[0m\n\u001b[0m",
      "\u001b[1;31mIndexError\u001b[0m: too many indices for tensor of dimension 1"
     ]
    }
   ],
   "source": []
  },
  {
   "cell_type": "code",
   "execution_count": null,
   "id": "7c9ead44-1ff7-4717-be14-1110e1f46277",
   "metadata": {},
   "outputs": [],
   "source": []
  },
  {
   "cell_type": "code",
   "execution_count": null,
   "id": "b1abcd68-18ab-4eb4-ab90-3ae1e77f31f7",
   "metadata": {},
   "outputs": [],
   "source": []
  },
  {
   "cell_type": "code",
   "execution_count": 29,
   "id": "bfad3650-249c-4b06-b5b1-1114cb87ebe3",
   "metadata": {},
   "outputs": [],
   "source": [
    "x = torch.cat(x, dim =-1)"
   ]
  },
  {
   "cell_type": "code",
   "execution_count": 33,
   "id": "7c2c5db5-53c7-48cd-8595-e63bff16fcb4",
   "metadata": {},
   "outputs": [],
   "source": [
    "y = torch.arange(12)"
   ]
  },
  {
   "cell_type": "code",
   "execution_count": 35,
   "id": "c16c6c0f-7073-4441-85b2-c7e85c8db6e5",
   "metadata": {},
   "outputs": [
    {
     "data": {
      "text/plain": [
       "tensor(572)"
      ]
     },
     "execution_count": 35,
     "metadata": {},
     "output_type": "execute_result"
    }
   ],
   "source": [
    "x@y"
   ]
  },
  {
   "cell_type": "code",
   "execution_count": 42,
   "id": "37981ca8-4d23-475f-9c73-c248b38930f2",
   "metadata": {},
   "outputs": [
    {
     "data": {
      "text/plain": [
       "1"
      ]
     },
     "execution_count": 42,
     "metadata": {},
     "output_type": "execute_result"
    }
   ],
   "source": [
    "x.ndim"
   ]
  },
  {
   "cell_type": "code",
   "execution_count": 19,
   "id": "50f7beb7-747d-4cfa-9797-b83cea1cd15c",
   "metadata": {},
   "outputs": [],
   "source": [
    "from datasets import Dataset"
   ]
  },
  {
   "cell_type": "code",
   "execution_count": 22,
   "id": "79c32a2a-8cee-4556-95f0-c382a38c4d2c",
   "metadata": {},
   "outputs": [],
   "source": [
    "dl = DataLoader(dataset, batch_size= 4, sampler = SequentialSampler(dataset))"
   ]
  },
  {
   "cell_type": "code",
   "execution_count": 36,
   "id": "cbaf0437-c9b4-4959-afd3-fad0a11a35ff",
   "metadata": {},
   "outputs": [
    {
     "data": {
      "text/plain": [
       "4"
      ]
     },
     "execution_count": 36,
     "metadata": {},
     "output_type": "execute_result"
    }
   ],
   "source": [
    "dl.batch_size"
   ]
  },
  {
   "cell_type": "code",
   "execution_count": 7,
   "id": "7d6a65bf-f0c8-4e18-99fe-f39d0685a899",
   "metadata": {},
   "outputs": [],
   "source": [
    "class Ds():\n",
    "def  __init__(self, a,b,c):\n",
    "self.a  = a\n",
    "self.b = b\n",
    "self.c = c\n",
    "\n",
    "def __getitem__(self, i): return {'a':self.a[i], 'b':self.b[i], 'c':self.c[i]}"
   ]
  },
  {
   "cell_type": "code",
   "execution_count": 8,
   "id": "20433bf3-0da8-48eb-8cff-1f5da3e1268f",
   "metadata": {},
   "outputs": [],
   "source": [
    "a = torch.arange(20)\n",
    "b = torch.arange(20,40)\n",
    "c=  torch.arange(40,60)"
   ]
  },
  {
   "cell_type": "code",
   "execution_count": 9,
   "id": "fb2e63d2-3712-48f3-9b2f-df186854d9e9",
   "metadata": {},
   "outputs": [],
   "source": [
    "ds = Ds(a,b,c)"
   ]
  },
  {
   "cell_type": "code",
   "execution_count": 10,
   "id": "78906790-8768-425b-b75d-f93bf13a62a3",
   "metadata": {},
   "outputs": [
    {
     "data": {
      "text/plain": [
       "{'a': tensor([0, 1, 2, 3]),\n",
       " 'b': tensor([20, 21, 22, 23]),\n",
       " 'c': tensor([40, 41, 42, 43])}"
      ]
     },
     "execution_count": 10,
     "metadata": {},
     "output_type": "execute_result"
    }
   ],
   "source": [
    "ds[:4]"
   ]
  },
  {
   "cell_type": "code",
   "execution_count": 18,
   "id": "8a15e01f-cec3-4e79-8c5f-ee6738b0a1af",
   "metadata": {},
   "outputs": [
    {
     "name": "stderr",
     "output_type": "stream",
     "text": [
      "Reusing dataset glue (C:\\Users\\iamab\\.cache\\huggingface\\datasets\\glue\\sst2\\1.0.0\\dacbe3125aa31d7f70367a07a8a9e72a5a0bfeb5fc42e75c9db75b96da6053ad)\n"
     ]
    },
    {
     "data": {
      "application/vnd.jupyter.widget-view+json": {
       "model_id": "23ca5270826a477a860d97036a6539ed",
       "version_major": 2,
       "version_minor": 0
      },
      "text/plain": [
       "HBox(children=(FloatProgress(value=0.0, max=1.0), HTML(value='')))"
      ]
     },
     "metadata": {},
     "output_type": "display_data"
    },
    {
     "name": "stdout",
     "output_type": "stream",
     "text": [
      "\n"
     ]
    },
    {
     "data": {
      "application/vnd.jupyter.widget-view+json": {
       "model_id": "96eafdee957f44e09762d25b89c030b4",
       "version_major": 2,
       "version_minor": 0
      },
      "text/plain": [
       "HBox(children=(FloatProgress(value=0.0, max=1.0), HTML(value='')))"
      ]
     },
     "metadata": {},
     "output_type": "display_data"
    },
    {
     "name": "stdout",
     "output_type": "stream",
     "text": [
      "\n"
     ]
    }
   ],
   "source": [
    "dataset = prepare_dataset('sst2', tokenizer = tokenizer, split = ['validation'])"
   ]
  },
  {
   "cell_type": "code",
   "execution_count": 21,
   "id": "b87094e3-9e35-44ef-b1e9-ad3758611eb9",
   "metadata": {},
   "outputs": [],
   "source": [
    "sample = dataset['validation'][:4]"
   ]
  },
  {
   "cell_type": "code",
   "execution_count": 15,
   "id": "cefbc6df-2992-42ae-94b2-dbdcb0c4387d",
   "metadata": {},
   "outputs": [],
   "source": [
    "import numpy as np"
   ]
  },
  {
   "cell_type": "code",
   "execution_count": 32,
   "id": "79acc972-9cd1-48b2-9f68-2e754266deb6",
   "metadata": {},
   "outputs": [],
   "source": [
    "a = torch.tensor([1,2,3,4])\n",
    "b = [10,11,12,13,14,15]\n",
    "ls = []"
   ]
  },
  {
   "cell_type": "code",
   "execution_count": 33,
   "id": "ba96e3b0-6594-4839-8d0b-67fd7b3c599c",
   "metadata": {},
   "outputs": [],
   "source": [
    "for i in range(len(b)):\n",
    "a_clone = a.clone()\n",
    "a_clone[1] = b[i]  \n",
    "ls.append(a_clone)"
   ]
  },
  {
   "cell_type": "code",
   "execution_count": 34,
   "id": "1b6fb0cc-b8fc-43e3-89b3-0473eafd0998",
   "metadata": {},
   "outputs": [
    {
     "data": {
      "text/plain": [
       "[tensor([ 1, 10,  3,  4]),\n",
       " tensor([ 1, 11,  3,  4]),\n",
       " tensor([ 1, 12,  3,  4]),\n",
       " tensor([ 1, 13,  3,  4]),\n",
       " tensor([ 1, 14,  3,  4]),\n",
       " tensor([ 1, 15,  3,  4])]"
      ]
     },
     "execution_count": 34,
     "metadata": {},
     "output_type": "execute_result"
    }
   ],
   "source": []
  },
  {
   "cell_type": "code",
   "execution_count": 27,
   "id": "09abc5c0-67ac-41cb-85e8-4ffd0c34c4ab",
   "metadata": {},
   "outputs": [
    {
     "data": {
      "text/plain": [
       "tensor([1, 2, 3])"
      ]
     },
     "execution_count": 27,
     "metadata": {},
     "output_type": "execute_result"
    }
   ],
   "source": [
    "a"
   ]
  },
  {
   "cell_type": "code",
   "execution_count": 28,
   "id": "e03b3a45-6dec-43d5-b82e-c696a6540f2b",
   "metadata": {},
   "outputs": [],
   "source": [
    "b = a.clone()"
   ]
  },
  {
   "cell_type": "code",
   "execution_count": 30,
   "id": "2aeef106-b19b-45be-833a-9d99483c9e28",
   "metadata": {},
   "outputs": [],
   "source": [
    "b[2] = 500"
   ]
  },
  {
   "cell_type": "code",
   "execution_count": 1,
   "id": "66cd9677-ae32-4739-bb58-dcfb635ec749",
   "metadata": {},
   "outputs": [],
   "source": [
    "from transformers import BertTokenizer"
   ]
  },
  {
   "cell_type": "code",
   "execution_count": 12,
   "id": "695434ff-9000-44b8-97cb-0f2caac5595d",
   "metadata": {},
   "outputs": [],
   "source": [
    "tok = BertTokenizer.from_pretrained('bert-base-uncased')"
   ]
  },
  {
   "cell_type": "code",
   "execution_count": 13,
   "id": "4783446b-cf97-4c26-9d7a-bbf8566d4b4f",
   "metadata": {},
   "outputs": [],
   "source": [
    "inp = tok('Movie was brilliant and awesome lol', return_tensors = 'pt')"
   ]
  },
  {
   "cell_type": "code",
   "execution_count": 19,
   "id": "84cc5aa1-9d9b-4930-b60d-3fcc0f751b09",
   "metadata": {},
   "outputs": [
    {
     "data": {
      "text/plain": [
       "tensor([  101,  3185,  2001,  8235,  1998, 12476,  8840,  2140,   102])"
      ]
     },
     "execution_count": 19,
     "metadata": {},
     "output_type": "execute_result"
    }
   ],
   "source": [
    "inp['input_ids'][0]"
   ]
  },
  {
   "cell_type": "code",
   "execution_count": 20,
   "id": "cafb244a-6f2e-4c71-aa47-34fe03d60e70",
   "metadata": {},
   "outputs": [
    {
     "data": {
      "text/plain": [
       "['[CLS]', 'movie', 'was', 'brilliant', 'and', 'awesome', 'lo', '##l', '[SEP]']"
      ]
     },
     "execution_count": 20,
     "metadata": {},
     "output_type": "execute_result"
    }
   ],
   "source": [
    "tok.convert_ids_to_tokens(inp['input_ids'][0])"
   ]
  }
 ],
 "metadata": {
  "kernelspec": {
   "display_name": "Python 3",
   "language": "python",
   "name": "python3"
  },
  "language_info": {
   "codemirror_mode": {
    "name": "ipython",
    "version": 3
   },
   "file_extension": ".py",
   "mimetype": "text/x-python",
   "name": "python",
   "nbconvert_exporter": "python",
   "pygments_lexer": "ipython3",
   "version": "3.9.6"
  }
 },
 "nbformat": 4,
 "nbformat_minor": 5
}
